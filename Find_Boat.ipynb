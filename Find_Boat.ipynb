{
  "nbformat": 4,
  "nbformat_minor": 0,
  "metadata": {
    "colab": {
      "name": "Find Boat.ipynb",
      "provenance": []
    },
    "kernelspec": {
      "name": "python3",
      "display_name": "Python 3"
    }
  },
  "cells": [
    {
      "cell_type": "code",
      "metadata": {
        "id": "wDJgWInFCzb2",
        "colab_type": "code",
        "colab": {}
      },
      "source": [
        "table = [\n",
        "    [0, 0, 0, 0, 1],\n",
        "    [0, 0, 0, 1, 0],\n",
        "    [0, 0, 1, 0, 0],\n",
        "    [1, 0, 0, 0, 0],\n",
        "    [1, 1, 0, 1, 0]\n",
        "]\n",
        "table2 = [\n",
        "    [1, 0, 0, 0, 1],\n",
        "    [0, 1, 0, 1, 0],\n",
        "    [0, 0, 0, 0, 0],\n",
        "    [1, 0, 0, 0, 0],\n",
        "    [1, 1, 0, 1, 0]\n",
        "]\n",
        "table3 = [\n",
        "    [1, 0, 0, 0, 1],\n",
        "    [0, 1, 0, 1, 0],\n",
        "    [0, 0, 1, 0, 0],\n",
        "    [1, 0, 0, 0, 0],\n",
        "    [1, 1, 0, 1, 0]\n",
        "]\n",
        "table4 = [\n",
        "    [1, 0, 0, 0, 1],\n",
        "    [0, 1, 0, 1, 0],\n",
        "    [0, 0, 1, 0, 0],\n",
        "    [1, 0, 0, 1, 0],\n",
        "    [1, 1, 0, 1, 0]\n",
        "]\n",
        "table5 = [\n",
        "    [0, 1],\n",
        "    [0, 1],\n",
        "]\n",
        "table6 = [\n",
        "    [1, 1],\n",
        "    [1, 1],\n",
        "]"
      ],
      "execution_count": 0,
      "outputs": []
    },
    {
      "cell_type": "code",
      "metadata": {
        "id": "CkPwkN9uKc7R",
        "colab_type": "code",
        "colab": {}
      },
      "source": [
        "import logging\n",
        "\n",
        "LOGGER = logging.getLogger(__name__)\n",
        "LOGGER.addHandler(logging.StreamHandler())\n",
        "LOGGER.setLevel(\"INFO\")\n"
      ],
      "execution_count": 0,
      "outputs": []
    },
    {
      "cell_type": "code",
      "metadata": {
        "id": "B3cAkszNDFpy",
        "colab_type": "code",
        "colab": {}
      },
      "source": [
        "def find_boats(field):\n",
        "    # First we assume the array is always squared\n",
        "    height = len(field)\n",
        "    if height <= 0:\n",
        "        print(\"The table must have columns\")\n",
        "    width = len(field[0])\n",
        "\n",
        "    visited_coordinates = []\n",
        "    boat_positions = []\n",
        "    for i, row in enumerate(field):\n",
        "        for j, col in enumerate(row):\n",
        "            if (i, j) in visited_coordinates:\n",
        "                continue\n",
        "            visited_coordinates.append((i, j))\n",
        "            if field[i][j] == 1:\n",
        "                LOGGER.debug(f\"Found boat at [{i}][{j}]\")\n",
        "                actual_boat = []\n",
        "                actual_boat.append((i, j))\n",
        "                try:\n",
        "                    if j + 1 < width and field[i][j + 1] == 1:\n",
        "                        # Check Horizontally\n",
        "                        LOGGER.debug(\"Found horizontally\")\n",
        "                        actual_j = j + 1\n",
        "                        while field[i][actual_j] == 1:\n",
        "                            visited_coordinates.append((i, actual_j))\n",
        "                            actual_boat.append((i, actual_j))\n",
        "                            actual_j = actual_j + 1\n",
        "                        else:\n",
        "                            boat_positions.append(actual_boat)\n",
        "                    elif i + 1 < height and field[i + 1][j] == 1:\n",
        "                        # We check vertically\n",
        "                        LOGGER.debug(\"Found vertically\")\n",
        "                        actual_i = i + 1\n",
        "                        while field[actual_i][j] == 1:\n",
        "                            visited_coordinates.append((actual_i, j))\n",
        "                            actual_boat.append((actual_i, j))\n",
        "                            actual_i = actual_i + 1\n",
        "                        else:\n",
        "                            boat_positions.append(actual_boat)\n",
        "                    elif j + 1 < width and i + 1 < height and field[i + 1][j + 1] == 1:\n",
        "                        # We check right descending diagonal\n",
        "                        LOGGER.debug(\"Found descending right vertical\")\n",
        "                        actual_i = i + 1\n",
        "                        actual_j = j + 1\n",
        "                        while field[actual_i][actual_j] == 1:\n",
        "                            visited_coordinates.append((actual_i, actual_j))\n",
        "                            actual_boat.append((actual_i, actual_j))\n",
        "                            actual_i = actual_i + 1\n",
        "                            actual_j = actual_j + 1\n",
        "                        else:\n",
        "                            boat_positions.append(actual_boat)\n",
        "\n",
        "                    elif j - 1 > -1 and i + 1 < height and field[i + 1][j - 1] == 1:\n",
        "                        # We check left descending diagonal\n",
        "                        LOGGER.debug(\"Found descending left vertical\")\n",
        "                        actual_i = i + 1\n",
        "                        actual_j = j - 1\n",
        "                        while field[actual_i][actual_j] == 1:\n",
        "                            visited_coordinates.append((actual_i, actual_j))\n",
        "                            actual_boat.append((actual_i, actual_j))\n",
        "                            actual_i = actual_i + 1\n",
        "                            actual_j = actual_j - 1\n",
        "                        else:\n",
        "                            boat_positions.append(actual_boat)\n",
        "                    else:\n",
        "                        LOGGER.debug(\"Boat has one position\")\n",
        "                        boat_positions.append(actual_boat)\n",
        "\n",
        "                except IndexError:\n",
        "                    boat_positions.append(actual_boat)\n",
        "    return boat_positions"
      ],
      "execution_count": 0,
      "outputs": []
    },
    {
      "cell_type": "code",
      "metadata": {
        "id": "n99DQBk5Kblv",
        "colab_type": "code",
        "colab": {
          "base_uri": "https://localhost:8080/",
          "height": 119
        },
        "outputId": "2159f94a-19d0-48e4-f2a9-5a7e041428d1"
      },
      "source": [
        "print(len(find_boats(table)))\n",
        "print(len(find_boats(table2)))\n",
        "print(len(find_boats(table3)))\n",
        "print(len(find_boats(table4)))\n",
        "print(len(find_boats(table5)))\n",
        "print(len(find_boats(table6)))"
      ],
      "execution_count": 16,
      "outputs": [
        {
          "output_type": "stream",
          "text": [
            "4\n",
            "5\n",
            "5\n",
            "5\n",
            "1\n",
            "2\n"
          ],
          "name": "stdout"
        }
      ]
    },
    {
      "cell_type": "code",
      "metadata": {
        "id": "B4NJ8qomD9zJ",
        "colab_type": "code",
        "colab": {}
      },
      "source": [
        ""
      ],
      "execution_count": 0,
      "outputs": []
    }
  ]
}